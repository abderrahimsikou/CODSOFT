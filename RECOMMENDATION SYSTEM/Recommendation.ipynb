{
  "nbformat": 4,
  "nbformat_minor": 0,
  "metadata": {
    "colab": {
      "provenance": [],
      "gpuType": "T4"
    },
    "kernelspec": {
      "name": "python3",
      "display_name": "Python 3"
    },
    "language_info": {
      "name": "python"
    },
    "accelerator": "GPU"
  },
  "cells": [
    {
      "cell_type": "code",
      "source": [
        "# Import Modules\n",
        "import pandas as pd\n",
        "import joblib\n",
        "from sklearn.metrics.pairwise import cosine_similarity\n",
        "from sklearn.feature_extraction.text import TfidfVectorizer"
      ],
      "metadata": {
        "id": "J_W5yzBRSnU0"
      },
      "execution_count": 1,
      "outputs": []
    },
    {
      "cell_type": "code",
      "source": [
        "# Read Data\n",
        "data = pd.read_csv(\"movies.csv\")\n",
        "print(data.head())"
      ],
      "metadata": {
        "id": "ATb_QYaKSoy7",
        "colab": {
          "base_uri": "https://localhost:8080/"
        },
        "outputId": "00f1f402-7f2e-4d1d-eb53-ad2332e672b1"
      },
      "execution_count": 7,
      "outputs": [
        {
          "output_type": "stream",
          "name": "stdout",
          "text": [
            "   movieId                               title  \\\n",
            "0        1                    Toy Story (1995)   \n",
            "1        2                      Jumanji (1995)   \n",
            "2        3             Grumpier Old Men (1995)   \n",
            "3        4            Waiting to Exhale (1995)   \n",
            "4        5  Father of the Bride Part II (1995)   \n",
            "\n",
            "                                        genres  \n",
            "0  Adventure|Animation|Children|Comedy|Fantasy  \n",
            "1                   Adventure|Children|Fantasy  \n",
            "2                               Comedy|Romance  \n",
            "3                         Comedy|Drama|Romance  \n",
            "4                                       Comedy  \n"
          ]
        }
      ]
    },
    {
      "cell_type": "code",
      "source": [
        "# Check missing values\n",
        "print(data.isnull().sum())"
      ],
      "metadata": {
        "colab": {
          "base_uri": "https://localhost:8080/"
        },
        "id": "Z7zE_rYWmsYP",
        "outputId": "feea2932-9de4-40d1-f6ef-6dd38227183a"
      },
      "execution_count": 10,
      "outputs": [
        {
          "output_type": "stream",
          "name": "stdout",
          "text": [
            "movieId    0\n",
            "title      0\n",
            "genres     0\n",
            "dtype: int64\n"
          ]
        }
      ]
    },
    {
      "cell_type": "code",
      "source": [
        "# Number of movies\n",
        "num_movies = data['movieId'].nunique()\n",
        "print('Number of movies:',num_movies)"
      ],
      "metadata": {
        "colab": {
          "base_uri": "https://localhost:8080/"
        },
        "id": "8bVV9mJOnCLo",
        "outputId": "c45aa563-db6d-4c3d-e786-da8017be0ac7"
      },
      "execution_count": 13,
      "outputs": [
        {
          "output_type": "stream",
          "name": "stdout",
          "text": [
            "Number of movies: 62423\n"
          ]
        }
      ]
    },
    {
      "cell_type": "code",
      "source": [
        "tfidf = TfidfVectorizer(stop_words=\"english\")\n",
        "tfidf_matrix = tfidf.fit_transform(movies[\"genres\"])\n",
        "print(tfidf_matrix.shape)"
      ],
      "metadata": {
        "id": "MScoQ-1vSuKk",
        "colab": {
          "base_uri": "https://localhost:8080/"
        },
        "outputId": "8ba4b58b-c7c7-463c-8be3-21827200bb46"
      },
      "execution_count": 15,
      "outputs": [
        {
          "output_type": "stream",
          "name": "stdout",
          "text": [
            "(62423, 23)\n"
          ]
        }
      ]
    },
    {
      "cell_type": "code",
      "source": [
        "cosine_sim = cosine_similarity(tfidf_matrix, tfidf_matrix[:1000])\n",
        "print(cosine_sim.shape)"
      ],
      "metadata": {
        "id": "KaahBimzSx9-",
        "colab": {
          "base_uri": "https://localhost:8080/"
        },
        "outputId": "b882f2e0-d76d-4d25-f9eb-27a7e8dd043b"
      },
      "execution_count": 16,
      "outputs": [
        {
          "output_type": "stream",
          "name": "stdout",
          "text": [
            "(62423, 1000)\n"
          ]
        }
      ]
    },
    {
      "cell_type": "code",
      "source": [
        "indice = pd.Series(movies.index, index=movies['title']).drop_duplicates()\n",
        "def get_recommendations(title):\n",
        "\n",
        "    idx = indice[title]\n",
        "    sim_scores = list(enumerate(cosine_sim[idx]))\n",
        "    sim_scores = sorted(sim_scores, key=lambda x: x[1], reverse=True)\n",
        "    sim_scores = sim_scores[1:6]\n",
        "    movie_indices = [i[0] for i in sim_scores]\n",
        "    return data['title'].iloc[movie_indices]\n",
        "\n",
        "get_recommendations('Toy Story (1995)')"
      ],
      "metadata": {
        "colab": {
          "base_uri": "https://localhost:8080/",
          "height": 241
        },
        "id": "ipBrbW4USd2S",
        "outputId": "7ae49be7-ff78-4b05-8a69-ef4f293716cb"
      },
      "execution_count": 23,
      "outputs": [
        {
          "output_type": "execute_result",
          "data": {
            "text/plain": [
              "551                Pagemaster, The (1994)\n",
              "55         Kids of the Round Table (1995)\n",
              "661                      Space Jam (1996)\n",
              "1                          Jumanji (1995)\n",
              "59     Indian in the Cupboard, The (1995)\n",
              "Name: title, dtype: object"
            ],
            "text/html": [
              "<div>\n",
              "<style scoped>\n",
              "    .dataframe tbody tr th:only-of-type {\n",
              "        vertical-align: middle;\n",
              "    }\n",
              "\n",
              "    .dataframe tbody tr th {\n",
              "        vertical-align: top;\n",
              "    }\n",
              "\n",
              "    .dataframe thead th {\n",
              "        text-align: right;\n",
              "    }\n",
              "</style>\n",
              "<table border=\"1\" class=\"dataframe\">\n",
              "  <thead>\n",
              "    <tr style=\"text-align: right;\">\n",
              "      <th></th>\n",
              "      <th>title</th>\n",
              "    </tr>\n",
              "  </thead>\n",
              "  <tbody>\n",
              "    <tr>\n",
              "      <th>551</th>\n",
              "      <td>Pagemaster, The (1994)</td>\n",
              "    </tr>\n",
              "    <tr>\n",
              "      <th>55</th>\n",
              "      <td>Kids of the Round Table (1995)</td>\n",
              "    </tr>\n",
              "    <tr>\n",
              "      <th>661</th>\n",
              "      <td>Space Jam (1996)</td>\n",
              "    </tr>\n",
              "    <tr>\n",
              "      <th>1</th>\n",
              "      <td>Jumanji (1995)</td>\n",
              "    </tr>\n",
              "    <tr>\n",
              "      <th>59</th>\n",
              "      <td>Indian in the Cupboard, The (1995)</td>\n",
              "    </tr>\n",
              "  </tbody>\n",
              "</table>\n",
              "</div><br><label><b>dtype:</b> object</label>"
            ]
          },
          "metadata": {},
          "execution_count": 23
        }
      ]
    },
    {
      "cell_type": "code",
      "source": [
        "# Save cosine_similarity & movie_indices\n",
        "with open('cosine_similarity.pkl', 'wb')as cosine:\n",
        "    joblib.dump(cosine_sim, cosine)\n",
        "\n",
        "with open('movie_indices.pkl', 'wb')as indices:\n",
        "    joblib.dump(indice, indices)"
      ],
      "metadata": {
        "id": "tQRY4u7Tzj1w"
      },
      "execution_count": null,
      "outputs": []
    }
  ]
}